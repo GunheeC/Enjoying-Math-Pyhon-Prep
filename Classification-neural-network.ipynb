{
 "cells": [
  {
   "cell_type": "code",
   "execution_count": 14,
   "metadata": {},
   "outputs": [],
   "source": [
    "# 1. 타이타닉 데이터셋 불러오기\n",
    "import pandas as pd\n",
    "\n",
    "titanic_data = pd.read_csv('titanic.csv')"
   ]
  },
  {
   "cell_type": "code",
   "execution_count": 15,
   "metadata": {},
   "outputs": [],
   "source": [
    "# 2. 누락된 값 채우기\n",
    "titanic_data['Age'].fillna(titanic_data['Age'].mean(), inplace=True)\n",
    "titanic_data.dropna(subset=['Embarked'], inplace=True)"
   ]
  },
  {
   "cell_type": "code",
   "execution_count": 16,
   "metadata": {},
   "outputs": [
    {
     "name": "stdout",
     "output_type": "stream",
     "text": [
      "float64\n"
     ]
    }
   ],
   "source": [
    "# 3. 'Age' 열의 데이터 유형 확인 및 변환\n",
    "print(titanic_data['Age'].dtype)\n",
    "titanic_data['Age'] = titanic_data['Age'].astype(float)"
   ]
  },
  {
   "cell_type": "code",
   "execution_count": 17,
   "metadata": {},
   "outputs": [],
   "source": [
    "# 4. 범주형 데이터 숫자로 변환 (원핫인코딩 등)\n",
    "titanic_data = pd.get_dummies(titanic_data, columns=['Sex', 'Embarked'])"
   ]
  },
  {
   "cell_type": "code",
   "execution_count": 19,
   "metadata": {},
   "outputs": [],
   "source": [
    "# 5. 텐서로 변환\n",
    "# import torch\n",
    "\n",
    "#X = torch.tensor(titanic_data.drop(['Age'], axis=1).values, dtype=torch.float32)\n",
    "#y = torch.tensor(titanic_data['Age'].values, dtype=torch.float32).view(-1, 1)\n",
    "\n",
    "import torch\n",
    "\n",
    "# 'Age' 열을 제외한 숫자형 데이터만 선택\n",
    "numeric_data = titanic_data.drop(['Age'], axis=1).select_dtypes(include=['float64', 'float32', 'int64', 'int32'])\n",
    "\n",
    "X = torch.tensor(numeric_data.values, dtype=torch.float32)\n",
    "y = torch.tensor(titanic_data['Age'].values, dtype=torch.float32).view(-1, 1)\n",
    "\n"
   ]
  },
  {
   "cell_type": "code",
   "execution_count": 20,
   "metadata": {},
   "outputs": [],
   "source": [
    "# 6. 데이터 분할\n",
    "from sklearn.model_selection import train_test_split\n",
    "\n",
    "X_train, X_test, y_train, y_test = train_test_split(X, y, test_size=0.2, random_state=42)\n"
   ]
  },
  {
   "cell_type": "code",
   "execution_count": 21,
   "metadata": {},
   "outputs": [],
   "source": [
    "# 신경망 모델 정의\n",
    "class NeuralNet(nn.Module):\n",
    "    def __init__(self, input_size, hidden_size):\n",
    "        super(NeuralNet, self).__init__()\n",
    "        self.fc1 = nn.Linear(input_size, hidden_size)\n",
    "        self.relu = nn.ReLU()\n",
    "        self.fc2 = nn.Linear(hidden_size, 1)\n",
    "\n",
    "    def forward(self, x):\n",
    "        out = self.fc1(x)\n",
    "        out = self.relu(out)\n",
    "        out = self.fc2(out)\n",
    "        return out\n",
    "\n",
    "# 모델 초기화\n",
    "input_size = X_train.shape[1]\n",
    "hidden_size = 64\n",
    "model = NeuralNet(input_size, hidden_size)\n",
    "\n",
    "# 손실 함수 및 최적화기 정의\n",
    "criterion = nn.MSELoss()\n",
    "optimizer = optim.Adam(model.parameters(), lr=0.001)"
   ]
  },
  {
   "cell_type": "code",
   "execution_count": 22,
   "metadata": {},
   "outputs": [
    {
     "name": "stdout",
     "output_type": "stream",
     "text": [
      "Epoch [10/100], Loss: 382.9207\n",
      "Epoch [20/100], Loss: 347.8085\n",
      "Epoch [30/100], Loss: 334.5106\n",
      "Epoch [40/100], Loss: 329.4608\n",
      "Epoch [50/100], Loss: 326.9124\n",
      "Epoch [60/100], Loss: 325.1617\n",
      "Epoch [70/100], Loss: 323.6517\n",
      "Epoch [80/100], Loss: 322.3578\n",
      "Epoch [90/100], Loss: 321.0495\n",
      "Epoch [100/100], Loss: 319.7879\n"
     ]
    }
   ],
   "source": [
    "# 모델 훈련\n",
    "num_epochs = 100\n",
    "for epoch in range(num_epochs):\n",
    "    # Forward pass\n",
    "    outputs = model(X_train)\n",
    "    loss = criterion(outputs, y_train)\n",
    "\n",
    "    # Backward pass 및 최적화\n",
    "    optimizer.zero_grad()\n",
    "    loss.backward()\n",
    "    optimizer.step()\n",
    "\n",
    "    if (epoch+1) % 10 == 0:\n",
    "        print(f'Epoch [{epoch+1}/{num_epochs}], Loss: {loss.item():.4f}')"
   ]
  },
  {
   "cell_type": "code",
   "execution_count": 23,
   "metadata": {},
   "outputs": [
    {
     "name": "stdout",
     "output_type": "stream",
     "text": [
      "Mean Squared Error: 341.06775\n"
     ]
    }
   ],
   "source": [
    "# 모델 예측\n",
    "with torch.no_grad():\n",
    "    predictions = model(X_test).numpy()\n",
    "\n",
    "# 평균 제곱 오차 계산\n",
    "mse = mean_squared_error(y_test, predictions)\n",
    "print(\"Mean Squared Error:\", mse)"
   ]
  }
 ],
 "metadata": {
  "kernelspec": {
   "display_name": "Python 3",
   "language": "python",
   "name": "python3"
  },
  "language_info": {
   "codemirror_mode": {
    "name": "ipython",
    "version": 3
   },
   "file_extension": ".py",
   "mimetype": "text/x-python",
   "name": "python",
   "nbconvert_exporter": "python",
   "pygments_lexer": "ipython3",
   "version": "3.11.7"
  }
 },
 "nbformat": 4,
 "nbformat_minor": 2
}
