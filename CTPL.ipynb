{
 "cells": [
  {
   "cell_type": "markdown",
   "metadata": {},
   "source": [
    "Objects in Kleisli Category"
   ]
  },
  {
   "cell_type": "code",
   "execution_count": 1,
   "metadata": {},
   "outputs": [],
   "source": [
    "def check_string(s):\n",
    "    if not isinstance(s, str):\n",
    "        raise TypeError(\"Expected a string!\")\n",
    "    else:\n",
    "        return s # object"
   ]
  },
  {
   "cell_type": "markdown",
   "metadata": {},
   "source": [
    "Morphisms = Guarded Functions"
   ]
  },
  {
   "cell_type": "code",
   "execution_count": 2,
   "metadata": {},
   "outputs": [
    {
     "name": "stdout",
     "output_type": "stream",
     "text": [
      "['yes', 'no', 'yes', 'no']\n"
     ]
    }
   ],
   "source": [
    "def check_array(a):\n",
    "    if not isinstance(a, list):\n",
    "        raise TypeError(\"Expected an array!\")\n",
    "    else:\n",
    "        return a\n",
    "\n",
    "def arr_of(c):\n",
    "    def inner(a):\n",
    "        return list(map(c, check_array(a)))\n",
    "    return inner\n",
    "\n",
    "def string_to_other_string(s):\n",
    "    if s.lower() == \"true\":\n",
    "        return \"yes\"\n",
    "    elif s.lower() == \"false\":\n",
    "        return \"no\"\n",
    "    else:\n",
    "        raise ValueError(\"Expected 'true' or 'false'!\")\n",
    "\n",
    "# Functor to object\n",
    "arr_of_other_string = arr_of(string_to_other_string)\n",
    "\n",
    "# 결과 출력\n",
    "input_strings = [\"true\", \"false\", \"True\", \"False\"]\n",
    "other_string_list = arr_of_other_string(input_strings)\n",
    "\n",
    "print(other_string_list)  # ['yes', 'no', 'yes', 'no']\n"
   ]
  },
  {
   "cell_type": "markdown",
   "metadata": {},
   "source": [
    "One functor from String to Boolean"
   ]
  },
  {
   "cell_type": "code",
   "execution_count": 4,
   "metadata": {},
   "outputs": [
    {
     "name": "stdout",
     "output_type": "stream",
     "text": [
      "[True, False, True, False]\n"
     ]
    }
   ],
   "source": [
    "def string_to_boolean(s):\n",
    "    if s.lower() == \"true\":\n",
    "        return True\n",
    "    elif s.lower() == \"false\":\n",
    "        return False\n",
    "    else:\n",
    "        raise ValueError(\"Expected 'true' or 'false'!\")\n",
    "\n",
    "# Functor to object\n",
    "arr_of_bool = arr_of(string_to_boolean)\n",
    "\n",
    "# 결과 출력\n",
    "bool_list = arr_of_bool([\"true\", \"false\", \"True\", \"False\"])\n",
    "print(bool_list)  # [True, False, True, False]"
   ]
  },
  {
   "cell_type": "markdown",
   "metadata": {},
   "source": [
    "Two functors from Booleans to Numbers for objects"
   ]
  },
  {
   "cell_type": "code",
   "execution_count": 5,
   "metadata": {},
   "outputs": [
    {
     "name": "stdout",
     "output_type": "stream",
     "text": [
      "[1, 1, 1, 0]\n",
      "[2, 2, 2, 0]\n"
     ]
    }
   ],
   "source": [
    "def boolean_to_number(b):\n",
    "    if isinstance(b, bool):\n",
    "        return int(b)\n",
    "    else:\n",
    "        raise ValueError(\"Expected a boolean!\")\n",
    "\n",
    "# Functor to object\n",
    "arr_of_number = arr_of(boolean_to_number)\n",
    "\n",
    "def boolean_to_number2(b):\n",
    "    if isinstance(b, bool):\n",
    "        return int(b)*2\n",
    "    else:\n",
    "        raise ValueError(\"Expected a boolean!\")\n",
    "    \n",
    "# Functor to object\n",
    "arr_of_number2 = arr_of(boolean_to_number2)\n",
    "\n",
    "bool_list = arr_of_bool([\"true\", \"True\", \"True\", \"False\"])\n",
    "\n",
    "number_list1 = arr_of_number(bool_list)\n",
    "number_list2 = arr_of_number2(bool_list)\n",
    "print(number_list1)  # [1, 0, 1, 0]   \n",
    "print(number_list2) "
   ]
  },
  {
   "cell_type": "markdown",
   "metadata": {},
   "source": [
    "Two functors from Booleans to Numbers for morphisms"
   ]
  },
  {
   "cell_type": "code",
   "execution_count": 17,
   "metadata": {},
   "outputs": [
    {
     "name": "stdout",
     "output_type": "stream",
     "text": [
      "[False, False, False, True]\n",
      "[0, 0, 0, 1]\n",
      "[0, 0, 0, 2]\n"
     ]
    }
   ],
   "source": [
    "# bool_list를 다른 문자열로 변환\n",
    "string_list_from_bool = arr_of(lambda b: \"False\" if b else \"True\")(bool_list)\n",
    "# print(string_list_from_bool)  # ['yes', 'yes', 'yes', 'no']\n",
    "# print(bool_list)\n",
    "bool_list2 = arr_of_bool(string_list_from_bool)\n",
    "print(bool_list2)  # [True, False, True, False]\n",
    "\n",
    "number_list3 = arr_of_number(bool_list2)\n",
    "number_list4 = arr_of_number2(bool_list2)\n",
    "print(number_list3)  # [1, 0, 1, 0]   \n",
    "print(number_list4) \n"
   ]
  },
  {
   "cell_type": "markdown",
   "metadata": {},
   "source": [
    "Natural transformation"
   ]
  },
  {
   "cell_type": "code",
   "execution_count": 18,
   "metadata": {},
   "outputs": [
    {
     "name": "stdout",
     "output_type": "stream",
     "text": [
      "[0, 0, 0, 2]\n"
     ]
    }
   ],
   "source": [
    "def multiply_by_two(n):\n",
    "    if isinstance(n, (int, float)):\n",
    "        return n * 2\n",
    "    else:\n",
    "        raise ValueError(\"Expected a number!\")\n",
    "\n",
    "# Functor to object\n",
    "arr_of_multiply_by_two = arr_of(multiply_by_two)\n",
    "\n",
    "# 결과 출력\n",
    "input_list = [0, 0, 0, 1]\n",
    "output_list = arr_of_multiply_by_two(input_list)\n",
    "\n",
    "print(output_list)  # [0, 0, 0, 2]"
   ]
  }
 ],
 "metadata": {
  "kernelspec": {
   "display_name": "base",
   "language": "python",
   "name": "python3"
  },
  "language_info": {
   "codemirror_mode": {
    "name": "ipython",
    "version": 3
   },
   "file_extension": ".py",
   "mimetype": "text/x-python",
   "name": "python",
   "nbconvert_exporter": "python",
   "pygments_lexer": "ipython3",
   "version": "3.11.7"
  }
 },
 "nbformat": 4,
 "nbformat_minor": 2
}
